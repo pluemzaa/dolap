{
 "cells": [
  {
   "cell_type": "code",
   "execution_count": 1,
   "id": "51b8dc9f",
   "metadata": {},
   "outputs": [
    {
     "name": "stdout",
     "output_type": "stream",
     "text": [
      "[INFO] พบไฟล์ต้องสงสัย 0 ไฟล์\n"
     ]
    }
   ],
   "source": [
    "# --- Import libraries ---\n",
    "import re, shutil\n",
    "from pathlib import Path\n",
    "\n",
    "# --- 1) กำหนดโฟลเดอร์ root ---\n",
    "root = Path(r\"CD:\\GitHub\\dolap\\files_dolab\\vfiles\")  # ใช้ r\"\" เพื่อรองรับ backslash\n",
    "ext = \"py\"   # กรองเฉพาะไฟล์ .py\n",
    "quarantine_mode = True   # True = ย้ายไป quarantine, False = ลบจริง\n",
    "\n",
    "# --- 2) แพทเทิร์นตรวจจับไฟล์แปลกปลอม ---\n",
    "PATTERNS = [\n",
    "    r\"\\bimport\\s+cx_Oracle\\b\",\n",
    "    r\"init_oracle_client\\s*\\(\",\n",
    "    r\"\\bcx_Oracle\\.connect\\s*\\(\",\n",
    "    r\"\\bdsn\\s*=\",\n",
    "    r\"\\busername\\s*=\\s*['\\\"].+?['\\\"]\",\n",
    "    r\"\\bpassword\\s*=\\s*['\\\"].+?['\\\"]\",\n",
    "    r\"\\b(ip|host)\\s*=\\s*['\\\"]\\d{1,3}(?:\\.\\d{1,3}){3}['\\\"]\",  # IPv4 literal\n",
    "    r\"\\bport\\s*=\\s*['\\\"]?\\d{2,5}['\\\"]?\",\n",
    "    r\"\\b(database|service_name)\\s*=\\s*['\\\"].+?['\\\"]\",\n",
    "    r\"\\bmakedsn\\s*\\(\",\n",
    "    r\"[\\w\\.\\-]+:\\d{2,5}/[A-Za-z0-9_\\-\\.]+\",  # รูปแบบ dsn เช่น 10.54.54.179:1521/xe\n",
    "]\n",
    "COMPILED = [re.compile(p, re.IGNORECASE | re.DOTALL) for p in PATTERNS]\n",
    "\n",
    "def is_suspicious(text: str) -> bool:\n",
    "    return any(p.search(text) for p in COMPILED)\n",
    "\n",
    "# --- 3) สแกนไฟล์ ---\n",
    "suspects = []\n",
    "for p in root.rglob(f\"*.{ext}\"):\n",
    "    try:\n",
    "        txt = p.read_text(encoding=\"utf-8\", errors=\"ignore\")\n",
    "    except Exception:\n",
    "        continue\n",
    "    if is_suspicious(txt):\n",
    "        suspects.append(p)\n",
    "\n",
    "print(f\"[INFO] พบไฟล์ต้องสงสัย {len(suspects)} ไฟล์\")\n",
    "for i, p in enumerate(suspects, 1):\n",
    "    print(f\"  {i:>3}. {p}\")\n",
    "\n",
    "# --- 4) จัดการไฟล์ ---\n",
    "if suspects:\n",
    "    if quarantine_mode:\n",
    "        qdir = root / \"__quarantine__\"\n",
    "        qdir.mkdir(exist_ok=True)\n",
    "        for p in suspects:\n",
    "            target = qdir / p.name\n",
    "            suffix = 1\n",
    "            while target.exists():\n",
    "                target = qdir / f\"{p.stem}__{suffix}{p.suffix}\"\n",
    "                suffix += 1\n",
    "            shutil.move(str(p), str(target))\n",
    "        print(f\"[DONE] ย้ายไฟล์ {len(suspects)} ไฟล์ ไปยัง {qdir}\")\n",
    "    else:\n",
    "        for p in suspects:\n",
    "            if p.exists():\n",
    "                p.unlink()\n",
    "        print(f\"[DONE] ลบไฟล์ {len(suspects)} ไฟล์ เรียบร้อย\")"
   ]
  }
 ],
 "metadata": {
  "kernelspec": {
   "display_name": "env_core",
   "language": "python",
   "name": "python3"
  },
  "language_info": {
   "codemirror_mode": {
    "name": "ipython",
    "version": 3
   },
   "file_extension": ".py",
   "mimetype": "text/x-python",
   "name": "python",
   "nbconvert_exporter": "python",
   "pygments_lexer": "ipython3",
   "version": "3.12.9"
  }
 },
 "nbformat": 4,
 "nbformat_minor": 5
}
