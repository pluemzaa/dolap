{
 "cells": [
  {
   "cell_type": "code",
   "execution_count": 93,
   "id": "b2be32c1",
   "metadata": {},
   "outputs": [],
   "source": [
    "import seaborn as sns\n",
    "import matplotlib.pyplot as plt"
   ]
  },
  {
   "cell_type": "code",
   "execution_count": 78,
   "id": "f18767c5",
   "metadata": {},
   "outputs": [],
   "source": [
    "from pathlib import Path\n",
    "\n",
    "FEATURES_CSV = r\"C:\\Users\\ASUS\\Desktop\\bababa\\cluster\\code_features2000.csv\"\n",
    "LABELS_CSV   = r\"C:\\Users\\ASUS\\Desktop\\bababa\\cluster\\label.csv\"        # code_id,label (0/1)\n",
    "\n",
    "EMBED_MODEL  = \"codebert\"                          # \"codebert\" | \"codet5\"\n",
    "BATCH_SIZE   = 16\n",
    "MAX_TOKENS   = 512\n",
    "POOLING      = \"mean\"                               # \"cls\" | \"mean\"\n"
   ]
  },
  {
   "cell_type": "code",
   "execution_count": 79,
   "id": "2897c64f",
   "metadata": {},
   "outputs": [
    {
     "name": "stdout",
     "output_type": "stream",
     "text": [
      "Matched rows: 2036 / 2036\n"
     ]
    },
    {
     "data": {
      "text/html": [
       "<div>\n",
       "<style scoped>\n",
       "    .dataframe tbody tr th:only-of-type {\n",
       "        vertical-align: middle;\n",
       "    }\n",
       "\n",
       "    .dataframe tbody tr th {\n",
       "        vertical-align: top;\n",
       "    }\n",
       "\n",
       "    .dataframe thead th {\n",
       "        text-align: right;\n",
       "    }\n",
       "</style>\n",
       "<table border=\"1\" class=\"dataframe\">\n",
       "  <thead>\n",
       "    <tr style=\"text-align: right;\">\n",
       "      <th></th>\n",
       "      <th>code_id</th>\n",
       "      <th>label</th>\n",
       "      <th>code_text</th>\n",
       "    </tr>\n",
       "  </thead>\n",
       "  <tbody>\n",
       "    <tr>\n",
       "      <th>0</th>\n",
       "      <td>C:\\Users\\ASUS\\Desktop\\bababa\\Mix\\149828_1.py</td>\n",
       "      <td>0</td>\n",
       "      <td>print('Hello Python!')</td>\n",
       "    </tr>\n",
       "    <tr>\n",
       "      <th>1</th>\n",
       "      <td>C:\\Users\\ASUS\\Desktop\\bababa\\Mix\\149828_1.py</td>\n",
       "      <td>0</td>\n",
       "      <td>print('Hello Python!')</td>\n",
       "    </tr>\n",
       "  </tbody>\n",
       "</table>\n",
       "</div>"
      ],
      "text/plain": [
       "                                        code_id  label               code_text\n",
       "0  C:\\Users\\ASUS\\Desktop\\bababa\\Mix\\149828_1.py      0  print('Hello Python!')\n",
       "1  C:\\Users\\ASUS\\Desktop\\bababa\\Mix\\149828_1.py      0  print('Hello Python!')"
      ]
     },
     "execution_count": 79,
     "metadata": {},
     "output_type": "execute_result"
    }
   ],
   "source": [
    "import os, pandas as pd\n",
    "\n",
    "df = pd.read_csv(FEATURES_CSV)\n",
    "labels = pd.read_csv(LABELS_CSV)\n",
    "assert {\"code_id\",\"label\"}.issubset(labels.columns)\n",
    "\n",
    "def _base(p): return os.path.basename(str(p)).lower()\n",
    "df[\"_k_base\"] = df[\"code_id\"].map(_base)\n",
    "labels[\"_k_base\"] = labels[\"code_id\"].map(_base)\n",
    "\n",
    "data = df.merge(labels[[\"_k_base\",\"label\"]], on=\"_k_base\", how=\"inner\")\n",
    "print(\"Matched rows:\", len(data), \"/\", len(df))\n",
    "\n",
    "from pathlib import Path\n",
    "def read_text_safely(path):\n",
    "    try:\n",
    "        return Path(path).read_text(encoding=\"utf-8\", errors=\"ignore\")\n",
    "    except Exception:\n",
    "        return \"\"\n",
    "\n",
    "data[\"code_text\"] = data[\"code_id\"].map(read_text_safely)\n",
    "data[[\"code_id\",\"label\",\"code_text\"]].head(2)\n"
   ]
  },
  {
   "cell_type": "code",
   "execution_count": 80,
   "id": "70ca0edd",
   "metadata": {},
   "outputs": [],
   "source": [
    "# ----call codetbert start---\n",
    "import torch, numpy as np\n",
    "from transformers import AutoTokenizer, AutoModel\n",
    "from tqdm.auto import tqdm\n",
    "\n",
    "def load_model_tokenizer(which=\"codebert\"):\n",
    "    if which == \"codebert\":\n",
    "        name = \"microsoft/codebert-base\"\n",
    "    elif which == \"codet5\":\n",
    "        name = \"Salesforce/codet5-base\"\n",
    "    else:\n",
    "        raise ValueError(\"EMBED_MODEL must be 'codebert' or 'codet5'\")\n",
    "\n",
    "    name = \"microsoft/codebert-base\"\n",
    "    tok = AutoTokenizer.from_pretrained(name, trust_remote_code=True)\n",
    "    mdl = AutoModel.from_pretrained(\n",
    "        name,\n",
    "        trust_remote_code=True,\n",
    "        use_safetensors=True   # << สำคัญ\n",
    "    )\n",
    "    return tok, mdl\n",
    "\n",
    "def embed_batch(texts, tokenizer, model, max_tokens=512, pooling=\"cls\", device=None):\n",
    "    device = device or (\"cuda\" if torch.cuda.is_available() else \"cpu\")\n",
    "    model = model.to(device)\n",
    "    vecs = []\n",
    "    for t in texts:\n",
    "        enc = tokenizer(t or \"\", return_tensors=\"pt\", truncation=True, max_length=max_tokens)\n",
    "        enc = {k: v.to(device) for k, v in enc.items()}\n",
    "        with torch.no_grad():\n",
    "            out = model(**enc)\n",
    "        last_hidden = out.last_hidden_state  # [1, T, H]\n",
    "        if pooling == \"cls\":\n",
    "            v = last_hidden[:,0,:].squeeze(0).detach().cpu().numpy()\n",
    "        else:  # mean pooling\n",
    "            v = last_hidden.mean(dim=1).squeeze(0).detach().cpu().numpy()\n",
    "        vecs.append(v)\n",
    "    return np.vstack(vecs)\n"
   ]
  },
  {
   "cell_type": "code",
   "execution_count": 81,
   "id": "bace8412",
   "metadata": {},
   "outputs": [
    {
     "name": "stderr",
     "output_type": "stream",
     "text": [
      "100%|██████████| 128/128 [00:38<00:00,  3.32it/s]\n"
     ]
    },
    {
     "data": {
      "text/plain": [
       "(2036, 768)"
      ]
     },
     "execution_count": 81,
     "metadata": {},
     "output_type": "execute_result"
    }
   ],
   "source": [
    "tokenizer, model = load_model_tokenizer(EMBED_MODEL)\n",
    "\n",
    "texts = data[\"code_text\"].fillna(\"\").tolist()\n",
    "emb_list = []\n",
    "for i in tqdm(range(0, len(texts), BATCH_SIZE)):\n",
    "    batch = texts[i:i+BATCH_SIZE]\n",
    "    emb = embed_batch(batch, tokenizer, model, max_tokens=MAX_TOKENS, pooling=POOLING)\n",
    "    emb_list.append(emb)\n",
    "embeddings = np.vstack(emb_list)\n",
    "embeddings.shape\n",
    "# ----call codetbert end---\n"
   ]
  },
  {
   "cell_type": "code",
   "execution_count": 52,
   "id": "a629dc31",
   "metadata": {},
   "outputs": [],
   "source": [
    "# ----call codet5 start---\n",
    "from transformers import AutoTokenizer, AutoModel\n",
    "name = \"Salesforce/codet5p-110m-embedding\"\n",
    "tokenizer = AutoTokenizer.from_pretrained(name, trust_remote_code=True)\n",
    "model = AutoModel.from_pretrained(name, trust_remote_code=True, use_safetensors=True)\n"
   ]
  },
  {
   "cell_type": "code",
   "execution_count": 53,
   "id": "56d23aa1",
   "metadata": {},
   "outputs": [],
   "source": [
    "\n",
    "import torch\n",
    "import numpy as np\n",
    "\n",
    "def mean_pooling(last_hidden_state, attention_mask):\n",
    "    # last_hidden_state: [B, T, H], attention_mask: [B, T]\n",
    "    mask = attention_mask.unsqueeze(-1).type_as(last_hidden_state)\n",
    "    summed = (last_hidden_state * mask).sum(dim=1)         # [B, H]\n",
    "    counts = mask.sum(dim=1).clamp(min=1e-9)               # [B, 1]\n",
    "    return summed / counts\n",
    "\n",
    "def embed_batch(texts, tokenizer, model, max_tokens=512, pooling=\"mean\", device=None):\n",
    "    device = device or (\"cuda\" if torch.cuda.is_available() else \"cpu\")\n",
    "    model = model.to(device)\n",
    "    model.eval()\n",
    "\n",
    "    enc = tokenizer(\n",
    "        texts,\n",
    "        return_tensors=\"pt\",\n",
    "        padding=True,\n",
    "        truncation=True,\n",
    "        max_length=max_tokens\n",
    "    )\n",
    "    enc = {k: v.to(device) for k, v in enc.items()}\n",
    "\n",
    "    with torch.no_grad():\n",
    "        out = model(**enc)\n",
    "\n",
    "    # CASE 1: โมเดลคืน Tensor ตรง ๆ (เช่น codet5p-110m-embedding)\n",
    "    if isinstance(out, torch.Tensor):\n",
    "        if out.dim() == 2:         # [B, H] → พร้อมใช้\n",
    "            return out.detach().cpu().numpy()\n",
    "        elif out.dim() == 3:       # [B, T, H] → ทำ pooling\n",
    "            return mean_pooling(out, enc.get(\"attention_mask\", torch.ones_like(enc[\"input_ids\"]))).detach().cpu().numpy()\n",
    "\n",
    "    # CASE 2: โมเดลคืน object ที่มี last_hidden_state\n",
    "    if hasattr(out, \"last_hidden_state\"):\n",
    "        last_hidden = out.last_hidden_state\n",
    "        if pooling == \"cls\":\n",
    "            vecs = last_hidden[:, 0, :]\n",
    "        else:\n",
    "            vecs = mean_pooling(last_hidden, enc.get(\"attention_mask\", torch.ones_like(enc[\"input_ids\"])))\n",
    "        return vecs.detach().cpu().numpy()\n",
    "\n",
    "    # CASE 3: โมเดลคืน tuple → ใช้ตัวแรกเป็น hidden-states\n",
    "    if isinstance(out, (tuple, list)) and len(out) > 0:\n",
    "        first = out[0]\n",
    "        if isinstance(first, torch.Tensor):\n",
    "            if first.dim() == 2:\n",
    "                return first.detach().cpu().numpy()\n",
    "            elif first.dim() == 3:\n",
    "                return mean_pooling(first, enc.get(\"attention_mask\", torch.ones_like(enc[\"input_ids\"]))).detach().cpu().numpy()\n",
    "\n",
    "    raise TypeError(f\"Unsupported output type from model forward: {type(out)}\")\n"
   ]
  },
  {
   "cell_type": "code",
   "execution_count": 54,
   "id": "04961f33",
   "metadata": {},
   "outputs": [
    {
     "data": {
      "text/plain": [
       "(2036, 256)"
      ]
     },
     "execution_count": 54,
     "metadata": {},
     "output_type": "execute_result"
    }
   ],
   "source": [
    "emb_list = []\n",
    "for i in range(0, len(texts), BATCH_SIZE):\n",
    "    batch = texts[i:i+BATCH_SIZE]\n",
    "    emb = embed_batch(batch, tokenizer, model, max_tokens=MAX_TOKENS, pooling=\"mean\")\n",
    "    emb_list.append(emb)\n",
    "embeddings = np.vstack(emb_list)\n",
    "embeddings.shape\n",
    "# ----call codet5 end---"
   ]
  },
  {
   "cell_type": "code",
   "execution_count": 82,
   "id": "d3d4a9c7",
   "metadata": {},
   "outputs": [
    {
     "name": "stdout",
     "output_type": "stream",
     "text": [
      "Model trained with AST+signals+cluster + embeddings.\n"
     ]
    }
   ],
   "source": [
    "from sklearn.model_selection import train_test_split\n",
    "from sklearn.preprocessing import StandardScaler, OneHotEncoder\n",
    "from sklearn.compose import ColumnTransformer\n",
    "from sklearn.decomposition import TruncatedSVD\n",
    "from sklearn.linear_model import LogisticRegression\n",
    "from sklearn.calibration import CalibratedClassifierCV\n",
    "from sklearn.pipeline import Pipeline\n",
    "from sklearn.metrics import classification_report, confusion_matrix, precision_recall_curve, average_precision_score\n",
    "import numpy as np\n",
    "import pandas as pd\n",
    "\n",
    "# เลือกคอลัมน์ตัวเลขจาก features เดิม\n",
    "ID_COL   = \"code_id\"\n",
    "EXCLUDE  = {ID_COL, \"label\", \"pca_x\", \"pca_y\", \"code_text\", \"_k_base\"}\n",
    "ALL_COLS = data.columns.tolist()\n",
    "USE_COLS = [c for c in ALL_COLS if c not in EXCLUDE]\n",
    "CAT_COLS = [\"cluster\"] if \"cluster\" in USE_COLS else []\n",
    "NUM_COLS = [c for c in USE_COLS if c not in CAT_COLS]\n",
    "\n",
    "# ผนวก embedding เป็น DataFrame\n",
    "emb_cols = [f\"emb_{i:03d}\" for i in range(embeddings.shape[1])]\n",
    "df_emb = pd.DataFrame(embeddings, columns=emb_cols, index=data.index)\n",
    "data_aug = pd.concat([data, df_emb], axis=1)\n",
    "\n",
    "# สร้าง X,y และแบ่งชุด\n",
    "NUM_COLS_AUG = NUM_COLS + emb_cols\n",
    "X = data_aug[[ID_COL] + CAT_COLS + NUM_COLS_AUG]\n",
    "y = data_aug[\"label\"].astype(int)\n",
    "\n",
    "X_train, X_val, y_train, y_val = train_test_split(\n",
    "    X, y, test_size=0.25, random_state=42, stratify=y\n",
    ")\n",
    "\n",
    "# Pipeline: one-hot cluster + scale ตัวเลข + ลดมิติ embeddings ด้วย SVD → LR + calibration\n",
    "svd = TruncatedSVD(n_components=64, random_state=42)\n",
    "pre = ColumnTransformer(\n",
    "    transformers=[\n",
    "        (\"cat\", OneHotEncoder(handle_unknown=\"ignore\"), CAT_COLS) if CAT_COLS else (\"cat\",\"drop\",[]),\n",
    "        (\"num\", StandardScaler(), NUM_COLS),\n",
    "        (\"emb\", Pipeline(steps=[(\"scale\", StandardScaler(with_mean=False)), (\"svd\", svd)]), emb_cols),\n",
    "    ], remainder=\"drop\"\n",
    ")\n",
    "\n",
    "base_lr = LogisticRegression(\n",
    "    penalty=\"elasticnet\",\n",
    "    l1_ratio=0.5,\n",
    "    C=1.0, \n",
    "    class_weight=\"balanced\", \n",
    "    solver=\"saga\",\n",
    "    max_iter=3000\n",
    ")\n",
    "clf = CalibratedClassifierCV(base_lr, cv=3, method=\"sigmoid\")\n",
    "pipe = Pipeline([(\"pre\", pre), (\"clf\", clf)])\n",
    "\n",
    "pipe.fit(X_train.drop(columns=[ID_COL]), y_train)\n",
    "print(\"Model trained with AST+signals+cluster + embeddings.\")\n"
   ]
  },
  {
   "cell_type": "code",
   "execution_count": 83,
   "id": "dcc5acd6",
   "metadata": {},
   "outputs": [
    {
     "name": "stdout",
     "output_type": "stream",
     "text": [
      "Best threshold ≈ 0.004 | AP=1.000\n",
      "[[171  85]\n",
      " [  0 253]]\n",
      "              precision    recall  f1-score   support\n",
      "\n",
      "           0      1.000     0.668     0.801       256\n",
      "           1      0.749     1.000     0.856       253\n",
      "\n",
      "    accuracy                          0.833       509\n",
      "   macro avg      0.874     0.834     0.829       509\n",
      "weighted avg      0.875     0.833     0.828       509\n",
      "\n"
     ]
    }
   ],
   "source": [
    "probs = pipe.predict_proba(X_val.drop(columns=[ID_COL]))[:,1]\n",
    "prec, rec, thr = precision_recall_curve(y_val, probs)\n",
    "f1 = 2*prec*rec/(prec+rec+1e-12)\n",
    "best_idx = int(np.nanargmax(f1))\n",
    "best_thr = thr[max(best_idx-1, 0)] if best_idx < len(thr) else 0.5\n",
    "\n",
    "print(f\"Best threshold ≈ {best_thr:.3f} | AP={average_precision_score(y_val, probs):.3f}\")\n",
    "pred = (probs >= best_thr).astype(int)\n",
    "print(confusion_matrix(y_val, pred))\n",
    "print(classification_report(y_val, pred, digits=3))"
   ]
  },
  {
   "cell_type": "code",
   "execution_count": 102,
   "id": "9d601d6d",
   "metadata": {},
   "outputs": [],
   "source": [
    "all_probs = pipe.predict_proba(X.drop(columns=[ID_COL]))[:,1]\n",
    "all_pred  = (all_probs >= best_thr).astype(int)\n",
    "\n",
    "out = X[[ID_COL]].copy()\n",
    "out[\"prob_correct\"] = all_probs\n",
    "out[\"pred_label\"]   = all_pred\n",
    "out[\"threshold_used\"] = best_thr"
   ]
  },
  {
   "cell_type": "code",
   "execution_count": 88,
   "id": "95293277",
   "metadata": {},
   "outputs": [
    {
     "data": {
      "text/plain": [
       "WindowsPath('C:/Users/ASUS/Desktop/bababa/predictions_hybridbert_balance.csv')"
      ]
     },
     "execution_count": 88,
     "metadata": {},
     "output_type": "execute_result"
    }
   ],
   "source": [
    "OUT_PATH = Path(r\"C:\\Users\\ASUS\\Desktop\\bababa/predictions_hybridbert_balance.csv\")\n",
    "out.to_csv(OUT_PATH, index=False)\n",
    "OUT_PATH"
   ]
  },
  {
   "cell_type": "code",
   "execution_count": 103,
   "id": "1919033c",
   "metadata": {},
   "outputs": [
    {
     "data": {
      "text/plain": [
       "pred_label\n",
       "1    0.75835\n",
       "0    0.24165\n",
       "Name: proportion, dtype: float64"
      ]
     },
     "execution_count": 103,
     "metadata": {},
     "output_type": "execute_result"
    }
   ],
   "source": [
    "out[\"pred_label\"].value_counts(normalize=True)"
   ]
  },
  {
   "cell_type": "code",
   "execution_count": 104,
   "id": "a45cf968",
   "metadata": {},
   "outputs": [
    {
     "data": {
      "text/html": [
       "<div>\n",
       "<style scoped>\n",
       "    .dataframe tbody tr th:only-of-type {\n",
       "        vertical-align: middle;\n",
       "    }\n",
       "\n",
       "    .dataframe tbody tr th {\n",
       "        vertical-align: top;\n",
       "    }\n",
       "\n",
       "    .dataframe thead th {\n",
       "        text-align: right;\n",
       "    }\n",
       "</style>\n",
       "<table border=\"1\" class=\"dataframe\">\n",
       "  <thead>\n",
       "    <tr style=\"text-align: right;\">\n",
       "      <th></th>\n",
       "      <th>code_id</th>\n",
       "      <th>prob_correct</th>\n",
       "      <th>pred_label</th>\n",
       "      <th>threshold_used</th>\n",
       "    </tr>\n",
       "  </thead>\n",
       "  <tbody>\n",
       "  </tbody>\n",
       "</table>\n",
       "</div>"
      ],
      "text/plain": [
       "Empty DataFrame\n",
       "Columns: [code_id, prob_correct, pred_label, threshold_used]\n",
       "Index: []"
      ]
     },
     "execution_count": 104,
     "metadata": {},
     "output_type": "execute_result"
    }
   ],
   "source": [
    "out[(out[\"prob_correct\"] > 0.4) & (out[\"prob_correct\"] < 0.6)]"
   ]
  },
  {
   "cell_type": "code",
   "execution_count": 100,
   "id": "d2baaa74",
   "metadata": {},
   "outputs": [
    {
     "data": {
      "image/png": "[encoded data removed]",
      "text/plain": [
       "<Figure size 800x800 with 2 Axes>"
      ]
     },
     "metadata": {},
     "output_type": "display_data"
    }
   ],
   "source": [
    "\n",
    "from sklearn.metrics.pairwise import cosine_similarity\n",
    "sim = cosine_similarity(embeddings[:5])  # ตัวอย่าง 50 โค้ด\n",
    "plt.figure(figsize=(8,8))\n",
    "sns.heatmap(sim, cmap=\"viridis\")\n",
    "plt.title(\"Code Embedding Similarity Heatmap (Top 50)\")\n",
    "plt.show()\n"
   ]
  },
  {
   "cell_type": "code",
   "execution_count": 98,
   "id": "0c644ea7",
   "metadata": {},
   "outputs": [
    {
     "data": {
      "image/png": "[encoded data removed]",
      "text/plain": [
       "<Figure size 640x480 with 2 Axes>"
      ]
     },
     "metadata": {},
     "output_type": "display_data"
    }
   ],
   "source": [
    "heat_df = data.groupby(\"label\")[NUM_COLS].mean()\n",
    "sns.heatmap(heat_df, annot=True, cmap=\"coolwarm\")\n",
    "plt.title(\"Feature Mean by Correctness Label\")\n",
    "plt.show()\n"
   ]
  },
  {
   "cell_type": "code",
   "execution_count": 108,
   "id": "f019fedf",
   "metadata": {},
   "outputs": [
    {
     "ename": "KeyError",
     "evalue": "'prob_correct'",
     "output_type": "error",
     "traceback": [
      "\u001b[31m---------------------------------------------------------------------------\u001b[39m",
      "\u001b[31mKeyError\u001b[39m                                  Traceback (most recent call last)",
      "\u001b[36mCell\u001b[39m\u001b[36m \u001b[39m\u001b[32mIn[108]\u001b[39m\u001b[32m, line 2\u001b[39m\n\u001b[32m      1\u001b[39m plt.figure(figsize=(\u001b[32m10\u001b[39m,\u001b[32m6\u001b[39m))\n\u001b[32m----> \u001b[39m\u001b[32m2\u001b[39m sns.heatmap(\u001b[43mdata\u001b[49m\u001b[43m.\u001b[49m\u001b[43mpivot_table\u001b[49m\u001b[43m(\u001b[49m\u001b[43mvalues\u001b[49m\u001b[43m=\u001b[49m\u001b[33;43m\"\u001b[39;49m\u001b[33;43mprob_correct\u001b[39;49m\u001b[33;43m\"\u001b[39;49m\u001b[43m,\u001b[49m\u001b[43m \u001b[49m\u001b[43mindex\u001b[49m\u001b[43m=\u001b[49m\u001b[33;43m\"\u001b[39;49m\u001b[33;43mcluster\u001b[39;49m\u001b[33;43m\"\u001b[39;49m\u001b[43m,\u001b[49m\u001b[43m \u001b[49m\u001b[43maggfunc\u001b[49m\u001b[43m=\u001b[49m\u001b[33;43m\"\u001b[39;49m\u001b[33;43mmean\u001b[39;49m\u001b[33;43m\"\u001b[39;49m\u001b[43m)\u001b[49m, annot=\u001b[38;5;28;01mTrue\u001b[39;00m, cmap=\u001b[33m\"\u001b[39m\u001b[33mRdYlGn\u001b[39m\u001b[33m\"\u001b[39m)\n\u001b[32m      3\u001b[39m plt.title(\u001b[33m\"\u001b[39m\u001b[33mMean Model Confidence per Cluster\u001b[39m\u001b[33m\"\u001b[39m)\n\u001b[32m      4\u001b[39m plt.show()\n",
      "\u001b[36mFile \u001b[39m\u001b[32mc:\\Users\\ASUS\\anaconda3\\envs\\testgpu\\Lib\\site-packages\\pandas\\core\\frame.py:9536\u001b[39m, in \u001b[36mDataFrame.pivot_table\u001b[39m\u001b[34m(self, values, index, columns, aggfunc, fill_value, margins, dropna, margins_name, observed, sort)\u001b[39m\n\u001b[32m   9519\u001b[39m \u001b[38;5;129m@Substitution\u001b[39m(\u001b[33m\"\u001b[39m\u001b[33m\"\u001b[39m)\n\u001b[32m   9520\u001b[39m \u001b[38;5;129m@Appender\u001b[39m(_shared_docs[\u001b[33m\"\u001b[39m\u001b[33mpivot_table\u001b[39m\u001b[33m\"\u001b[39m])\n\u001b[32m   9521\u001b[39m \u001b[38;5;28;01mdef\u001b[39;00m\u001b[38;5;250m \u001b[39m\u001b[34mpivot_table\u001b[39m(\n\u001b[32m   (...)\u001b[39m\u001b[32m   9532\u001b[39m     sort: \u001b[38;5;28mbool\u001b[39m = \u001b[38;5;28;01mTrue\u001b[39;00m,\n\u001b[32m   9533\u001b[39m ) -> DataFrame:\n\u001b[32m   9534\u001b[39m     \u001b[38;5;28;01mfrom\u001b[39;00m\u001b[38;5;250m \u001b[39m\u001b[34;01mpandas\u001b[39;00m\u001b[34;01m.\u001b[39;00m\u001b[34;01mcore\u001b[39;00m\u001b[34;01m.\u001b[39;00m\u001b[34;01mreshape\u001b[39;00m\u001b[34;01m.\u001b[39;00m\u001b[34;01mpivot\u001b[39;00m\u001b[38;5;250m \u001b[39m\u001b[38;5;28;01mimport\u001b[39;00m pivot_table\n\u001b[32m-> \u001b[39m\u001b[32m9536\u001b[39m     \u001b[38;5;28;01mreturn\u001b[39;00m \u001b[43mpivot_table\u001b[49m\u001b[43m(\u001b[49m\n\u001b[32m   9537\u001b[39m \u001b[43m        \u001b[49m\u001b[38;5;28;43mself\u001b[39;49m\u001b[43m,\u001b[49m\n\u001b[32m   9538\u001b[39m \u001b[43m        \u001b[49m\u001b[43mvalues\u001b[49m\u001b[43m=\u001b[49m\u001b[43mvalues\u001b[49m\u001b[43m,\u001b[49m\n\u001b[32m   9539\u001b[39m \u001b[43m        \u001b[49m\u001b[43mindex\u001b[49m\u001b[43m=\u001b[49m\u001b[43mindex\u001b[49m\u001b[43m,\u001b[49m\n\u001b[32m   9540\u001b[39m \u001b[43m        \u001b[49m\u001b[43mcolumns\u001b[49m\u001b[43m=\u001b[49m\u001b[43mcolumns\u001b[49m\u001b[43m,\u001b[49m\n\u001b[32m   9541\u001b[39m \u001b[43m        \u001b[49m\u001b[43maggfunc\u001b[49m\u001b[43m=\u001b[49m\u001b[43maggfunc\u001b[49m\u001b[43m,\u001b[49m\n\u001b[32m   9542\u001b[39m \u001b[43m        \u001b[49m\u001b[43mfill_value\u001b[49m\u001b[43m=\u001b[49m\u001b[43mfill_value\u001b[49m\u001b[43m,\u001b[49m\n\u001b[32m   9543\u001b[39m \u001b[43m        \u001b[49m\u001b[43mmargins\u001b[49m\u001b[43m=\u001b[49m\u001b[43mmargins\u001b[49m\u001b[43m,\u001b[49m\n\u001b[32m   9544\u001b[39m \u001b[43m        \u001b[49m\u001b[43mdropna\u001b[49m\u001b[43m=\u001b[49m\u001b[43mdropna\u001b[49m\u001b[43m,\u001b[49m\n\u001b[32m   9545\u001b[39m \u001b[43m        \u001b[49m\u001b[43mmargins_name\u001b[49m\u001b[43m=\u001b[49m\u001b[43mmargins_name\u001b[49m\u001b[43m,\u001b[49m\n\u001b[32m   9546\u001b[39m \u001b[43m        \u001b[49m\u001b[43mobserved\u001b[49m\u001b[43m=\u001b[49m\u001b[43mobserved\u001b[49m\u001b[43m,\u001b[49m\n\u001b[32m   9547\u001b[39m \u001b[43m        \u001b[49m\u001b[43msort\u001b[49m\u001b[43m=\u001b[49m\u001b[43msort\u001b[49m\u001b[43m,\u001b[49m\n\u001b[32m   9548\u001b[39m \u001b[43m    \u001b[49m\u001b[43m)\u001b[49m\n",
      "\u001b[36mFile \u001b[39m\u001b[32mc:\\Users\\ASUS\\anaconda3\\envs\\testgpu\\Lib\\site-packages\\pandas\\core\\reshape\\pivot.py:102\u001b[39m, in \u001b[36mpivot_table\u001b[39m\u001b[34m(data, values, index, columns, aggfunc, fill_value, margins, dropna, margins_name, observed, sort)\u001b[39m\n\u001b[32m     99\u001b[39m     table = concat(pieces, keys=keys, axis=\u001b[32m1\u001b[39m)\n\u001b[32m    100\u001b[39m     \u001b[38;5;28;01mreturn\u001b[39;00m table.__finalize__(data, method=\u001b[33m\"\u001b[39m\u001b[33mpivot_table\u001b[39m\u001b[33m\"\u001b[39m)\n\u001b[32m--> \u001b[39m\u001b[32m102\u001b[39m table = \u001b[43m__internal_pivot_table\u001b[49m\u001b[43m(\u001b[49m\n\u001b[32m    103\u001b[39m \u001b[43m    \u001b[49m\u001b[43mdata\u001b[49m\u001b[43m,\u001b[49m\n\u001b[32m    104\u001b[39m \u001b[43m    \u001b[49m\u001b[43mvalues\u001b[49m\u001b[43m,\u001b[49m\n\u001b[32m    105\u001b[39m \u001b[43m    \u001b[49m\u001b[43mindex\u001b[49m\u001b[43m,\u001b[49m\n\u001b[32m    106\u001b[39m \u001b[43m    \u001b[49m\u001b[43mcolumns\u001b[49m\u001b[43m,\u001b[49m\n\u001b[32m    107\u001b[39m \u001b[43m    \u001b[49m\u001b[43maggfunc\u001b[49m\u001b[43m,\u001b[49m\n\u001b[32m    108\u001b[39m \u001b[43m    \u001b[49m\u001b[43mfill_value\u001b[49m\u001b[43m,\u001b[49m\n\u001b[32m    109\u001b[39m \u001b[43m    \u001b[49m\u001b[43mmargins\u001b[49m\u001b[43m,\u001b[49m\n\u001b[32m    110\u001b[39m \u001b[43m    \u001b[49m\u001b[43mdropna\u001b[49m\u001b[43m,\u001b[49m\n\u001b[32m    111\u001b[39m \u001b[43m    \u001b[49m\u001b[43mmargins_name\u001b[49m\u001b[43m,\u001b[49m\n\u001b[32m    112\u001b[39m \u001b[43m    \u001b[49m\u001b[43mobserved\u001b[49m\u001b[43m,\u001b[49m\n\u001b[32m    113\u001b[39m \u001b[43m    \u001b[49m\u001b[43msort\u001b[49m\u001b[43m,\u001b[49m\n\u001b[32m    114\u001b[39m \u001b[43m\u001b[49m\u001b[43m)\u001b[49m\n\u001b[32m    115\u001b[39m \u001b[38;5;28;01mreturn\u001b[39;00m table.__finalize__(data, method=\u001b[33m\"\u001b[39m\u001b[33mpivot_table\u001b[39m\u001b[33m\"\u001b[39m)\n",
      "\u001b[36mFile \u001b[39m\u001b[32mc:\\Users\\ASUS\\anaconda3\\envs\\testgpu\\Lib\\site-packages\\pandas\\core\\reshape\\pivot.py:148\u001b[39m, in \u001b[36m__internal_pivot_table\u001b[39m\u001b[34m(data, values, index, columns, aggfunc, fill_value, margins, dropna, margins_name, observed, sort)\u001b[39m\n\u001b[32m    146\u001b[39m \u001b[38;5;28;01mfor\u001b[39;00m i \u001b[38;5;129;01min\u001b[39;00m values:\n\u001b[32m    147\u001b[39m     \u001b[38;5;28;01mif\u001b[39;00m i \u001b[38;5;129;01mnot\u001b[39;00m \u001b[38;5;129;01min\u001b[39;00m data:\n\u001b[32m--> \u001b[39m\u001b[32m148\u001b[39m         \u001b[38;5;28;01mraise\u001b[39;00m \u001b[38;5;167;01mKeyError\u001b[39;00m(i)\n\u001b[32m    150\u001b[39m to_filter = []\n\u001b[32m    151\u001b[39m \u001b[38;5;28;01mfor\u001b[39;00m x \u001b[38;5;129;01min\u001b[39;00m keys + values:\n",
      "\u001b[31mKeyError\u001b[39m: 'prob_correct'"
     ]
    },
    {
     "data": {
      "text/plain": [
       "<Figure size 1000x600 with 0 Axes>"
      ]
     },
     "metadata": {},
     "output_type": "display_data"
    }
   ],
   "source": [
    "plt.figure(figsize=(10,6))\n",
    "sns.heatmap(data.pivot_table(values=\"prob_correct\", index=\"cluster\", aggfunc=\"mean\"), annot=True, cmap=\"RdYlGn\")\n",
    "plt.title(\"Mean Model Confidence per Cluster\")\n",
    "plt.show()\n",
    "\n"
   ]
  }
 ],
 "metadata": {
  "kernelspec": {
   "display_name": "testgpu",
   "language": "python",
   "name": "python3"
  },
  "language_info": {
   "codemirror_mode": {
    "name": "ipython",
    "version": 3
   },
   "file_extension": ".py",
   "mimetype": "text/x-python",
   "name": "python",
   "nbconvert_exporter": "python",
   "pygments_lexer": "ipython3",
   "version": "3.11.13"
  }
 },
 "nbformat": 4,
 "nbformat_minor": 5
}
